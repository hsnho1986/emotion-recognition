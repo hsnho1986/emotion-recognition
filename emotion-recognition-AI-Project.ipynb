{
 "cells": [
  {
   "cell_type": "markdown",
   "id": "f7be6999-175a-455c-8f59-9f7f6a31b721",
   "metadata": {},
   "source": [
    "# Emotion Recognition AI Project"
   ]
  },
  {
   "cell_type": "markdown",
   "id": "668d03df-fac7-4a71-998f-5dbe5b79fb74",
   "metadata": {},
   "source": [
    "### 사용할 모델 다운로드\n",
    "#### face-detection-adas-0001 다운로드"
   ]
  },
  {
   "cell_type": "code",
   "execution_count": null,
   "id": "3af45e22-a809-42c5-ac74-24ef015d571f",
   "metadata": {},
   "outputs": [],
   "source": [
    "! omz_downloader --name face-detection-adas-0001 --precision FP16"
   ]
  },
  {
   "cell_type": "markdown",
   "id": "b512b1ac-3a12-4710-b45b-36dfc4f81332",
   "metadata": {},
   "source": [
    "## emotions-recognition-retail-0003 다운로드"
   ]
  },
  {
   "cell_type": "code",
   "execution_count": null,
   "id": "99ddd74c-1a09-4f63-94e8-3c5aa5a53adb",
   "metadata": {},
   "outputs": [],
   "source": [
    "! omz_downloader --name emotions-recognition-retail-0003 --precision FP16"
   ]
  },
  {
   "cell_type": "markdown",
   "id": "e3461647-6401-472f-bf0f-f4e542f09b91",
   "metadata": {},
   "source": [
    "## 필요한 라이브러리 Imports"
   ]
  },
  {
   "cell_type": "code",
   "execution_count": null,
   "id": "f5da69ad-e0f3-48d6-80b8-bb2880964e6f",
   "metadata": {},
   "outputs": [],
   "source": [
    "import openvino as ov\n",
    "import cv2\n",
    "import numpy as np\n",
    "\n",
    "import matplotlib.pyplot as plt\n",
    "from pathlib import Path"
   ]
  },
  {
   "cell_type": "code",
   "execution_count": null,
   "id": "82e3b935-ccee-425c-81b9-12de79670dad",
   "metadata": {},
   "outputs": [],
   "source": [
    "core = ov.Core()\n",
    "options = core.available_devices\n",
    "\n",
    "options"
   ]
  },
  {
   "cell_type": "markdown",
   "id": "788c93e4-ffc9-4fdf-b974-1d8bbccc726b",
   "metadata": {},
   "source": [
    "## Load the Model"
   ]
  },
  {
   "cell_type": "code",
   "execution_count": null,
   "id": "cd5a1cbc-c842-4572-b8ef-06f32b768690",
   "metadata": {},
   "outputs": [],
   "source": [
    "#core = ov.Core()\n",
    "\n",
    "model = core.read_model(model='./models/face-detection-adas-0001.xml')\n",
    "face_model = core.compile_model(model=model, device_name=\"CPU\")\n",
    "\n",
    "face_input_layer = face_model.input(0)\n",
    "face_output_layer = face_model.output(0)\n",
    "\n",
    "print(\"Face Input layer shape: \", face_input_layer.shape)\n",
    "print(\"Face Output layer shape:\", face_output_layer.shape)"
   ]
  },
  {
   "cell_type": "code",
   "execution_count": null,
   "id": "d4174146-f3e0-4b00-ba36-c4409af8e53f",
   "metadata": {},
   "outputs": [],
   "source": [
    "model = core.read_model(model='./models/emotions-recognition-retail-0003.xml')\n",
    "emotion_model = core.compile_model(model=model, device_name=\"CPU\")\n",
    "\n",
    "emotion_input_layer = emotion_model.input(0)\n",
    "emotion_output_layer = emotion_model.output(0)\n",
    "\n",
    "print(\"Emotion Input layer shape: \", emotion_input_layer.shape)\n",
    "print(\"Emotion Output layer shape:\", emotion_output_layer.shape)"
   ]
  },
  {
   "cell_type": "markdown",
   "id": "3e7a99af-9d28-4122-a47e-526acfa72da3",
   "metadata": {},
   "source": [
    "### Load Image"
   ]
  },
  {
   "cell_type": "code",
   "execution_count": null,
   "id": "e5f39fab-c7da-453e-9e2f-c0e99036e7af",
   "metadata": {},
   "outputs": [],
   "source": [
    "frame = cv2.imread(\"images/emotions.jpg\")\n",
    "\n",
    "resized_frame = cv2.resize(src=frame, dsize=(672, 384)) \n",
    "transposed_frame = resized_frame.transpose(2, 0, 1)\n",
    "input_frame = np.expand_dims(transposed_frame, 0)"
   ]
  },
  {
   "cell_type": "markdown",
   "id": "75d4d938-9ed8-4c28-8921-770797fc9e2d",
   "metadata": {},
   "source": [
    "### DrawBoundingBoxes() 함수 만들기"
   ]
  },
  {
   "cell_type": "code",
   "execution_count": null,
   "id": "b33c4315-a808-49fb-9476-907595b92d4d",
   "metadata": {},
   "outputs": [],
   "source": [
    "def DrawBoundingBoxes(output, frame, conf=0.5):\n",
    "    boxes = []\n",
    "    canvas = frame.copy()\n",
    "    h,w,_ = canvas.shape \n",
    "\n",
    "    predictions = output[0][0]            # 하위 집합 데이터 프레임\n",
    "    confidence = predictions[:,2]         # conf 값 가져오기 [image_id, label, conf, x_min, y_min, x_max, y_max]\n",
    "\n",
    "    top_predictions = predictions[(confidence>conf)]         # 임계값보다 큰 conf 값을 가진 예측만 선택\n",
    "\n",
    "    for detection in top_predictions:\n",
    "        box = (detection[3:7] * np.array([w, h, w, h])).astype(\"int\") # 상자 위치 결정\n",
    "        (xmin, ymin, xmax, ymax) = box   # xmin, ymin, xmax, ymax에 상자 위치 값 지정\n",
    "        cv2.rectangle(frame, (xmin, ymin), (xmax, ymax), (0, 0, 255), 2)       # 사각형 그리기\n",
    "        boxes.append(box)     #이미지에 박스를 그린 얼굴의 위치 저장\n",
    "   \n",
    "    return boxes"
   ]
  },
  {
   "cell_type": "code",
   "execution_count": null,
   "id": "d8923a8c-8c5f-40b6-ad3d-a3ea600192ef",
   "metadata": {},
   "outputs": [],
   "source": [
    "def DrawText(output, frame, face_position):\n",
    "    # emotions 딕셔너리 생성\n",
    "    emotions = {\n",
    "        0:\"neutral\",\n",
    "        1:\"happy\",\n",
    "        2:\"sad\",\n",
    "        3:\"surprise\",\n",
    "        4:\"anger\"\n",
    "    }\n",
    "    # 딕셔너리 출력하기\n",
    "    #for key, value in emotions.items():\n",
    "    #    print(key, value, end='      ')\n",
    "    #print()\n",
    "        \n",
    "    predictions = output[0,:,0,0]              # 5개의 감정 예측값 저장\n",
    "    print(\"predictions : \" + str(predictions))\n",
    "    \n",
    "    topresult_index = np.argmax(predictions)   # 5개의 감정 예측값 중 가장 높은값의 위치 저장\n",
    "    #print(\"topresult_index : \" + str(topresult_index))\n",
    "    \n",
    "    emotion = emotions[topresult_index]        # emotions에서 topresult_index 값에 해당하는 감정 저장\n",
    "    #print(\"emotion : \" + emotion)\n",
    "    \n",
    "    cv2.putText(frame, emotion,                 # 예측한 감정값 이미지에 출력하기\n",
    "                (face_position[0],face_position[1]),    #xmin, ymin 값을 가져와 위치 설정\n",
    "                cv2.FONT_HERSHEY_SIMPLEX, 1, \n",
    "                (0, 0, 255), 2)"
   ]
  },
  {
   "cell_type": "code",
   "execution_count": null,
   "id": "481b406d-4b40-4367-adc7-858f1f7a9382",
   "metadata": {},
   "outputs": [],
   "source": [
    "face_output = face_model([input_frame])[face_output_layer]\n",
    "boxes = DrawBoundingBoxes(face_output, frame, conf=0.5)"
   ]
  },
  {
   "cell_type": "code",
   "execution_count": null,
   "id": "49adec85-ff8d-4ed3-b119-d40e5f4e494f",
   "metadata": {},
   "outputs": [],
   "source": [
    "if boxes is not None:\n",
    "    \n",
    "    for box in boxes:          #boxes에 저장된 얼굴의 위치들을 하나씩 box에 전달\n",
    "    \n",
    "        xmin, ymin, xmax, ymax = box      #box에 저장된 좌표 저장\n",
    "        emotion_input = frame[ymin:ymax,xmin:xmax]         #이미지에서 해당 얼굴 위치를 찾아 저장\n",
    "        \n",
    "        # 감정 인식 모델을 사용하기 위해 이미지 전처리\n",
    "        # Input layer shape:  [1,3,64,64]\n",
    "        resized_image = cv2.resize(src=emotion_input, dsize=(64, 64))      #이미지 사이즈 변경  (64,64,3)\n",
    "        transposed_image = resized_image.transpose(2, 0, 1)                #shape 위치 변경    (3,64,64)\n",
    "        input_image = np.expand_dims(transposed_image, 0)                  #차원 확장 (1,3,64,64)\n",
    "\n",
    "        emotion_output = emotion_model([input_image])[emotion_output_layer]  # 감정 추론\n",
    "        DrawText(emotion_output, frame, box)   # 추론의 결과값 이미지에 출력하기"
   ]
  },
  {
   "cell_type": "code",
   "execution_count": null,
   "id": "473c01a1-c32a-4da3-89d7-dba36c0189ee",
   "metadata": {},
   "outputs": [],
   "source": [
    "cv2.imshow(\"emotion-recognition\", frame)\n",
    "\n",
    "cv2.waitKey(0)\n",
    "cv2.destroyAllWindows()"
   ]
  },
  {
   "cell_type": "code",
   "execution_count": null,
   "id": "323f50f3-9ed5-4b13-94e7-a402de6ef164",
   "metadata": {},
   "outputs": [],
   "source": [
    "def AddBackground(frame, bg):\n",
    "\n",
    "    frame_h, frame_w = frame.shape[0], frame.shape[1]\n",
    "    new_h = 500\n",
    "    new_w = int((new_h/frame_h)*frame_w)\n",
    "    frame_resize = cv2.resize(frame, (new_w, new_h))\n",
    "\n",
    "    xmax = bg.shape[1] - 335\n",
    "    ymax = bg.shape[0] - 175\n",
    "    xmin = xmax - new_w\n",
    "    ymin = ymax - new_h\n",
    "\n",
    "    bg[ymin:ymax, xmin:xmax] = frame_resize\n",
    "\n",
    "    return bg"
   ]
  },
  {
   "cell_type": "code",
   "execution_count": null,
   "id": "b8f613fb-8e85-4fac-a2b2-90adc6fa896b",
   "metadata": {},
   "outputs": [],
   "source": [
    "background = \"./images/Background2.jpg\"  #사용할 배경화면 경로\n",
    "bg = cv2.imread(background)\n",
    "deployment = AddBackground(frame, bg)"
   ]
  },
  {
   "cell_type": "code",
   "execution_count": null,
   "id": "6130530a-3d26-4f53-802e-78ae7828188f",
   "metadata": {},
   "outputs": [],
   "source": [
    "cv2.imshow(\"Deployment\", deployment)\n",
    "\n",
    "cv2.waitKey(0)\n",
    "cv2.destroyAllWindows()"
   ]
  },
  {
   "cell_type": "code",
   "execution_count": null,
   "id": "4addb2e5-2b00-43e0-a6d9-c2af92889422",
   "metadata": {},
   "outputs": [],
   "source": [
    "camera = cv2.VideoCapture(0) #create a VideoCapture object with the 'first' camera (your webcam)\n",
    "background = \"./images/Background2.jpg\"\n",
    "bg = cv2.imread(background)\n",
    "\n",
    "while(True):\n",
    "    ret, frame = camera.read()             # Capture frame by frame      \n",
    "    if ret == False:\n",
    "        break\n",
    "    \n",
    "    resized_frame = cv2.resize(src=frame, dsize=(672, 384)) \n",
    "    transposed_frame = resized_frame.transpose(2, 0, 1)\n",
    "    input_frame = np.expand_dims(transposed_frame, 0)    \n",
    "    \n",
    "    face_output = face_model([input_frame])[face_output_layer]\n",
    "    \n",
    "    boxes = DrawBoundingBoxes(face_output, frame, conf=0.5)\n",
    "    \n",
    "    if boxes is not None:\n",
    "    \n",
    "        for box in boxes:          #boxes에 저장된 얼굴의 위치들을 하나씩 box에 전달\n",
    "    \n",
    "            xmin, ymin, xmax, ymax = box      #box에 저장된 좌표 저장\n",
    "            emotion_input = frame[ymin:ymax,xmin:xmax]         #이미지에서 해당 얼굴 위치를 찾아 저장\n",
    "        \n",
    "            # 감정 인식 모델을 사용하기 위해 이미지 전처리\n",
    "            # Input layer shape:  [1,3,64,64]\n",
    "            resized_image = cv2.resize(src=emotion_input, dsize=(64, 64))      #이미지 사이즈 변경  (64,64,3)\n",
    "            transposed_image = resized_image.transpose(2, 0, 1)                #shape 위치 변경    (3,64,64)\n",
    "            input_image = np.expand_dims(transposed_image, 0)                  #차원 확장 (1,3,64,64)\n",
    "\n",
    "            emotion_output = emotion_model([input_image])[emotion_output_layer]  # 감정 추론\n",
    "            DrawText(emotion_output, frame, box)   # 추론의 결과값 이미지에 출력하기\n",
    "    \n",
    "    deployment = AddBackground(frame, bg)\n",
    "    \n",
    "    cv2.imshow('Press Spacebar to Exit', deployment)\n",
    "\n",
    "    if cv2.waitKey(1) & 0xFF == ord(' '):  # Stop if spacebar is detected\n",
    "        break\n",
    "\n",
    "camera.release()                           # Cleanup after spacebar is detected.\n",
    "cv2.destroyAllWindows()"
   ]
  },
  {
   "cell_type": "code",
   "execution_count": null,
   "id": "d6595318-3f68-40ce-9712-1e4c8098b43c",
   "metadata": {},
   "outputs": [],
   "source": []
  }
 ],
 "metadata": {
  "kernelspec": {
   "display_name": "Python 3 (ipykernel)",
   "language": "python",
   "name": "python3"
  },
  "language_info": {
   "codemirror_mode": {
    "name": "ipython",
    "version": 3
   },
   "file_extension": ".py",
   "mimetype": "text/x-python",
   "name": "python",
   "nbconvert_exporter": "python",
   "pygments_lexer": "ipython3",
   "version": "3.11.8"
  }
 },
 "nbformat": 4,
 "nbformat_minor": 5
}
